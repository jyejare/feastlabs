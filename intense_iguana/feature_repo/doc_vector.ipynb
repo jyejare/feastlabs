{
 "cells": [
  {
   "cell_type": "code",
   "execution_count": 4,
   "id": "781cc7e9-34a9-415c-adc5-3db24ae0ad86",
   "metadata": {},
   "outputs": [
    {
     "ename": "ModuleNotFoundError",
     "evalue": "No module named 'feast'",
     "output_type": "error",
     "traceback": [
      "\u001b[31m---------------------------------------------------------------------------\u001b[39m",
      "\u001b[31mModuleNotFoundError\u001b[39m                       Traceback (most recent call last)",
      "\u001b[36mCell\u001b[39m\u001b[36m \u001b[39m\u001b[32mIn[4]\u001b[39m\u001b[32m, line 5\u001b[39m\n\u001b[32m      1\u001b[39m \u001b[38;5;28;01mfrom\u001b[39;00m\u001b[38;5;250m \u001b[39m\u001b[34;01mdatetime\u001b[39;00m\u001b[38;5;250m \u001b[39m\u001b[38;5;28;01mimport\u001b[39;00m timedelta, datetime\n\u001b[32m      3\u001b[39m \u001b[38;5;28;01mimport\u001b[39;00m\u001b[38;5;250m \u001b[39m\u001b[34;01mpandas\u001b[39;00m\u001b[38;5;250m \u001b[39m\u001b[38;5;28;01mas\u001b[39;00m\u001b[38;5;250m \u001b[39m\u001b[34;01mpd\u001b[39;00m\n\u001b[32m----> \u001b[39m\u001b[32m5\u001b[39m \u001b[38;5;28;01mfrom\u001b[39;00m\u001b[38;5;250m \u001b[39m\u001b[34;01mfeast\u001b[39;00m\u001b[38;5;250m \u001b[39m\u001b[38;5;28;01mimport\u001b[39;00m (\n\u001b[32m      6\u001b[39m     FeatureStore,\n\u001b[32m      7\u001b[39m     Entity,\n\u001b[32m      8\u001b[39m     FeatureView,\n\u001b[32m      9\u001b[39m     Field,\n\u001b[32m     10\u001b[39m     FileSource,\n\u001b[32m     11\u001b[39m     Project,\n\u001b[32m     12\u001b[39m     PushSource,\n\u001b[32m     13\u001b[39m )\n\u001b[32m     14\u001b[39m \u001b[38;5;28;01mfrom\u001b[39;00m\u001b[38;5;250m \u001b[39m\u001b[34;01mfeast\u001b[39;00m\u001b[34;01m.\u001b[39;00m\u001b[34;01mon_demand_feature_view\u001b[39;00m\u001b[38;5;250m \u001b[39m\u001b[38;5;28;01mimport\u001b[39;00m on_demand_feature_view\n\u001b[32m     15\u001b[39m \u001b[38;5;28;01mfrom\u001b[39;00m\u001b[38;5;250m \u001b[39m\u001b[34;01mfeast\u001b[39;00m\u001b[34;01m.\u001b[39;00m\u001b[34;01mtypes\u001b[39;00m\u001b[38;5;250m \u001b[39m\u001b[38;5;28;01mimport\u001b[39;00m Float32, Float64, Int64, String, Array\n",
      "\u001b[31mModuleNotFoundError\u001b[39m: No module named 'feast'"
     ]
    }
   ],
   "source": [
    "from datetime import timedelta, datetime\n",
    "\n",
    "import pandas as pd\n",
    "\n",
    "from feast import (\n",
    "    FeatureStore,\n",
    "    Entity,\n",
    "    FeatureView,\n",
    "    Field,\n",
    "    FileSource,\n",
    "    Project,\n",
    "    PushSource,\n",
    ")\n",
    "from feast.on_demand_feature_view import on_demand_feature_view\n",
    "from feast.types import Float32, Float64, Int64, String, Array"
   ]
  },
  {
   "cell_type": "code",
   "execution_count": null,
   "id": "c8e4fdef-62f9-43fd-8af9-710f7c93fbc4",
   "metadata": {},
   "outputs": [],
   "source": [
    "project = Project(name=\"intense_iguana\", description=\"A project for documents retrieval\")"
   ]
  },
  {
   "cell_type": "code",
   "execution_count": null,
   "id": "e696ea37-0d07-4bee-8649-c690c043aec1",
   "metadata": {},
   "outputs": [],
   "source": [
    "doc = Entity(name=\"item_id\", join_keys=[\"item_id\"])"
   ]
  },
  {
   "cell_type": "code",
   "execution_count": null,
   "id": "16b5a394-5ba5-437d-ba29-5bdf72aee37d",
   "metadata": {},
   "outputs": [],
   "source": [
    "item_embed_df = pd.read_parquet(path='data/doc_embed.parquet')"
   ]
  },
  {
   "cell_type": "code",
   "execution_count": null,
   "id": "7e40b488-0f91-4f88-bbea-43f90250be8d",
   "metadata": {},
   "outputs": [],
   "source": [
    "item_embed_push_fs = FileSource(\n",
    "    name=\"document_embeddings\",\n",
    "    path=\"data/doc_embed.parquet\",\n",
    "    timestamp_field=\"event_timestamp\",\n",
    ")"
   ]
  },
  {
   "cell_type": "code",
   "execution_count": null,
   "id": "cb8fe820-b41e-400b-a3c0-23453d509d44",
   "metadata": {},
   "outputs": [],
   "source": [
    "store = FeatureStore(repo_path=\".\")"
   ]
  },
  {
   "cell_type": "code",
   "execution_count": null,
   "id": "f8f36eaa-e3b2-4cac-9551-439cc70004d2",
   "metadata": {},
   "outputs": [],
   "source": [
    "store.apply(project, doc, item_embed_push_fs)"
   ]
  },
  {
   "cell_type": "code",
   "execution_count": null,
   "id": "bb59c7a8-35f7-4580-8c05-69c577ad0d71",
   "metadata": {},
   "outputs": [],
   "source": [
    "from feast.data_source import PushMode"
   ]
  },
  {
   "cell_type": "code",
   "execution_count": null,
   "id": "47389f6b-c902-4b9e-a97b-649ff4d5fd83",
   "metadata": {},
   "outputs": [],
   "source": [
    "item_embed_push_source = PushSource(name='item_embed_push_source', batch_source=item_embed_push_fs)"
   ]
  },
  {
   "cell_type": "code",
   "execution_count": null,
   "id": "60ea6d83-b46d-42bd-967c-9b9b8932fd21",
   "metadata": {},
   "outputs": [],
   "source": [
    "store.apply(item_embed_push_source)"
   ]
  },
  {
   "cell_type": "code",
   "execution_count": null,
   "id": "fce9a6c7-14d9-48a9-a937-d6b55274b9f6",
   "metadata": {},
   "outputs": [],
   "source": [
    "item_embedding_view = FeatureView(\n",
    "    name=\"item_embedding\",\n",
    "    entities=[doc],\n",
    "    ttl=timedelta(days=1),\n",
    "    schema=[\n",
    "        Field(name=\"item_id\", dtype=Int64),\n",
    "        Field(\n",
    "            name=\"embedding\",\n",
    "            dtype=Array(Float32),\n",
    "            vector_index=True,\n",
    "            vector_search_metric=\"cosine\",\n",
    "        ),\n",
    "    ],\n",
    "    source=item_embed_push_source,\n",
    "    online=True,\n",
    ")"
   ]
  },
  {
   "cell_type": "code",
   "execution_count": null,
   "id": "4e66aa41-0a10-4d72-9b03-c2c2be543bfa",
   "metadata": {},
   "outputs": [],
   "source": [
    "store.apply(item_embedding_view)"
   ]
  },
  {
   "cell_type": "code",
   "execution_count": null,
   "id": "c87306fd-ac9a-4e39-892a-0dbc936e20de",
   "metadata": {},
   "outputs": [],
   "source": [
    "pushresult = store.push(push_source_name='item_embed_push_source', df=item_embed_df, to=PushMode.ONLINE)"
   ]
  },
  {
   "cell_type": "code",
   "execution_count": null,
   "id": "d3bf5427-43bf-430f-9a13-7f1915da12db",
   "metadata": {},
   "outputs": [],
   "source": [
    "store.apply(doc)"
   ]
  },
  {
   "cell_type": "code",
   "execution_count": null,
   "id": "c52d53a4-ef9d-4dbf-bc7d-c0f3bb41b2da",
   "metadata": {},
   "outputs": [],
   "source": [
    "user_embed = [0.15] * 128"
   ]
  },
  {
   "cell_type": "code",
   "execution_count": null,
   "id": "ca1bfd5e-175e-40c0-bb4e-033d7ff1566e",
   "metadata": {},
   "outputs": [],
   "source": [
    "print(store.retrieve_online_documents(query=user_embed, top_k=10, feature='item_embedding:item_id').to_df())"
   ]
  },
  {
   "cell_type": "code",
   "execution_count": null,
   "id": "dc30e4d5-66e6-4ba2-ad78-4562467804d4",
   "metadata": {},
   "outputs": [],
   "source": []
  }
 ],
 "metadata": {
  "kernelspec": {
   "display_name": ".venv",
   "language": "python",
   "name": "python3"
  },
  "language_info": {
   "codemirror_mode": {
    "name": "ipython",
    "version": 3
   },
   "file_extension": ".py",
   "mimetype": "text/x-python",
   "name": "python",
   "nbconvert_exporter": "python",
   "pygments_lexer": "ipython3",
   "version": "3.11.11"
  }
 },
 "nbformat": 4,
 "nbformat_minor": 5
}
